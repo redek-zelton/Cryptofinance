{
 "cells": [
  {
   "cell_type": "markdown",
   "metadata": {},
   "source": [
    "# Méthode de Stratégie de Minage Optimal"
   ]
  },
  {
   "cell_type": "markdown",
   "metadata": {},
   "source": [
    "## 1) Importation des librairies et creation de fonction "
   ]
  },
  {
   "cell_type": "code",
   "execution_count": 1,
   "metadata": {},
   "outputs": [],
   "source": [
    "#Importation des Bibliothèques\n",
    "import random as rd\n",
    "import numpy as np\n",
    "import matplotlib.pyplot as plt"
   ]
  },
  {
   "cell_type": "markdown",
   "metadata": {},
   "source": [
    "## 2) Cas quand la simulation s'arrête avec a=0 ou abandon"
   ]
  },
  {
   "cell_type": "markdown",
   "metadata": {},
   "source": [
    "### a) Creation des Fonctions"
   ]
  },
  {
   "cell_type": "code",
   "execution_count": 2,
   "metadata": {},
   "outputs": [],
   "source": [
    "# Le miner paye à chaque fois que le réseau trouve un block ou qu'il publie ses blocks\n",
    "# En revanche, il ne paye pas losqu'il abandonne son attaque\n",
    "# a est le nombre de block appartenant à l'attaquant\n",
    "# h est le nombre de block miné par le réseau\n",
    "# n est le nombre possible de block créer pendant l'attaque\n",
    "def ESA(a,h,n,proba,cout):\n",
    "    q=proba\n",
    "    p=1-proba\n",
    "    c=cout\n",
    "    if n<=-1:\n",
    "        return 0\n",
    "    else:\n",
    "        if(a>h+1):\n",
    "          # il écrase les blocks du réseau ou il continue à miner\n",
    "            return max(h+1-c+ESA(a-h-1,0,n,q,c),p*(ESA(a,h+1,n-1,q,c)-c)+q*(ESA(a+1,h,n-1,q,c)))\n",
    "        elif(a==h+1):\n",
    "          # il écrase les blocks du réseau ou il continue à miner\n",
    "            return max(h+1-c,p*(ESA(a,h+1,n-1,q,c)-c)+q*(ESA(a+1,h,n-1,q,c)))\n",
    "        else:\n",
    "          # il abandonne ou il continue à miner\n",
    "            return max(0,p*(ESA(a,h+1,n-1,q,c)-c)+q*(ESA(a+1,h,n-1,q,c)))"
   ]
  },
  {
   "cell_type": "code",
   "execution_count": 3,
   "metadata": {},
   "outputs": [],
   "source": [
    "def SimESA(nombre,start=0.01,end=0.51,gap=0.001):\n",
    "  L_proba=np.arange(start,end,gap)\n",
    "  L_result=[]\n",
    "  for proba in L_proba:\n",
    "    L_result.append(ESA(0,0,nombre,proba,proba))\n",
    "  return L_proba,L_result"
   ]
  },
  {
   "cell_type": "code",
   "execution_count": 4,
   "metadata": {},
   "outputs": [],
   "source": [
    "#graph de la simulation\n",
    "def plotESA(L_proba,L_result):\n",
    "  L_zero=np.array([0]*len(L_proba))\n",
    "  fig,ax=plt.subplots()\n",
    "  plt.title(\"Simulation du Minage avec optimisation quand a=0 ou abandon\")\n",
    "  ax.plot(L_proba,L_zero,marker=\"_\",color='black')\n",
    "  ax.plot(L_proba,L_result,marker=\"_\",color='blue')\n",
    "  ax.legend([\"Zeros\",\"result\"])\n",
    "  plt.show()\n",
    "  idx = np.argwhere(np.diff(np.sign(L_zero - L_result))).flatten() #index intersection Exp\n",
    "  return L_proba[idx]"
   ]
  },
  {
   "cell_type": "markdown",
   "metadata": {},
   "source": [
    "### b) Lien minage optimisation et attack 1+2"
   ]
  },
  {
   "cell_type": "code",
   "execution_count": 5,
   "metadata": {},
   "outputs": [
    {
     "data": {
      "image/png": "[encoded data removed]",
      "text/plain": [
       "<Figure size 432x288 with 1 Axes>"
      ]
     },
     "metadata": {
      "needs_background": "light"
     },
     "output_type": "display_data"
    },
    {
     "data": {
      "text/plain": [
       "array([0.4142])"
      ]
     },
     "execution_count": 5,
     "metadata": {},
     "output_type": "execute_result"
    }
   ],
   "source": [
    "# Le minage 1+2 est une attaque qui dure au maximun 3 blocks\n",
    "# On va le comparer avec le minage d'optimisation de minage sans Ajustement de Blocks en profondeur 3\n",
    "nombre=3\n",
    "L_proba,L_result = SimESA(nombre,0.01,0.51,0.0001)\n",
    "plotESA(L_proba,L_result)\n",
    "# le minage est rentable pour un même puissance de Hashage"
   ]
  },
  {
   "cell_type": "markdown",
   "metadata": {},
   "source": [
    "### c) Seuil de rentabilité"
   ]
  },
  {
   "cell_type": "code",
   "execution_count": 6,
   "metadata": {},
   "outputs": [
    {
     "data": {
      "image/png": "[encoded data removed]",
      "text/plain": [
       "<Figure size 432x288 with 1 Axes>"
      ]
     },
     "metadata": {
      "needs_background": "light"
     },
     "output_type": "display_data"
    },
    {
     "data": {
      "text/plain": [
       "array([0.33])"
      ]
     },
     "execution_count": 6,
     "metadata": {},
     "output_type": "execute_result"
    }
   ],
   "source": [
    "nombre=12\n",
    "L_proba,L_result = SimESA(nombre,0.01,0.51,0.01)\n",
    "plotESA(L_proba,L_result)\n",
    "# avec un nombre entre 10 et 20, la puissance minimale requise est entre 33 et 34%."
   ]
  },
  {
   "cell_type": "markdown",
   "metadata": {},
   "source": [
    "## 3) Cas quand la simulation s'arrête avec n=0 "
   ]
  },
  {
   "cell_type": "code",
   "execution_count": 26,
   "metadata": {},
   "outputs": [],
   "source": [
    "def ENA(a,h,n,proba,cout):\n",
    "    q=proba\n",
    "    p=1-proba\n",
    "    c=cout\n",
    "    if n<=-1:\n",
    "        return 0\n",
    "    else:\n",
    "        if(a>=h+1):\n",
    "          # il écrase les blocks du réseau ou il continue à miner\n",
    "            return max(h+1-c+ENA(a-h-1,0,n,q,c),p*(ENA(a,h+1,n-1,q,c)-c)+q*(ENA(a+1,h,n-1,q,c)))\n",
    "        else:\n",
    "          # il abandonne ou il continue à miner\n",
    "            return max(ENA(0,0,n,q,c),p*(ENA(a,h+1,n-1,q,c)-c)+q*(ENA(a+1,h,n-1,q,c)))"
   ]
  },
  {
   "cell_type": "code",
   "execution_count": 27,
   "metadata": {},
   "outputs": [],
   "source": [
    "def SimENA(nombre,start=0.01,end=0.51,gap=0.001):\n",
    "  L_proba=np.arange(start,end,gap)\n",
    "  L_result=[]\n",
    "  for proba in L_proba:\n",
    "    L_result.append(ENA(0,0,nombre,proba,proba))\n",
    "  return L_proba,L_result"
   ]
  },
  {
   "cell_type": "code",
   "execution_count": 28,
   "metadata": {},
   "outputs": [],
   "source": [
    "#graph de la simulation\n",
    "def plotENA(L_proba,L_result):\n",
    "  L_zero=np.array([0]*len(L_proba))\n",
    "  fig,ax=plt.subplots()\n",
    "  plt.title(\"Simulation du Minage avec optimisation quand n=0\")\n",
    "  ax.plot(L_proba,L_zero,marker=\"_\",color='black')\n",
    "  ax.plot(L_proba,L_result,marker=\"_\",color='blue')\n",
    "  ax.legend([\"Zeros\",\"result\"])\n",
    "  plt.show()\n",
    "  idx = np.argwhere(np.diff(np.sign(L_zero - L_result))).flatten() #index intersection Exp\n",
    "  return L_proba[idx]"
   ]
  },
  {
   "cell_type": "code",
   "execution_count": 29,
   "metadata": {},
   "outputs": [
    {
     "ename": "RecursionError",
     "evalue": "maximum recursion depth exceeded in comparison",
     "output_type": "error",
     "traceback": [
      "\u001b[1;31m---------------------------------------------------------------------------\u001b[0m",
      "\u001b[1;31mRecursionError\u001b[0m                            Traceback (most recent call last)",
      "\u001b[1;32m<ipython-input-29-04ed1a858d94>\u001b[0m in \u001b[0;36m<module>\u001b[1;34m\u001b[0m\n\u001b[0;32m      1\u001b[0m \u001b[0mnombre\u001b[0m\u001b[1;33m=\u001b[0m\u001b[1;36m3\u001b[0m\u001b[1;33m\u001b[0m\u001b[1;33m\u001b[0m\u001b[0m\n\u001b[1;32m----> 2\u001b[1;33m \u001b[0mL_proba\u001b[0m\u001b[1;33m,\u001b[0m\u001b[0mL_result\u001b[0m \u001b[1;33m=\u001b[0m \u001b[0mSimENA\u001b[0m\u001b[1;33m(\u001b[0m\u001b[0mnombre\u001b[0m\u001b[1;33m,\u001b[0m\u001b[1;36m0.01\u001b[0m\u001b[1;33m,\u001b[0m\u001b[1;36m0.51\u001b[0m\u001b[1;33m,\u001b[0m\u001b[1;36m0.0001\u001b[0m\u001b[1;33m)\u001b[0m\u001b[1;33m\u001b[0m\u001b[1;33m\u001b[0m\u001b[0m\n\u001b[0m\u001b[0;32m      3\u001b[0m \u001b[0mplotENA\u001b[0m\u001b[1;33m(\u001b[0m\u001b[0mL_proba\u001b[0m\u001b[1;33m,\u001b[0m\u001b[0mL_result\u001b[0m\u001b[1;33m)\u001b[0m\u001b[1;33m\u001b[0m\u001b[1;33m\u001b[0m\u001b[0m\n",
      "\u001b[1;32m<ipython-input-27-52c596611826>\u001b[0m in \u001b[0;36mSimENA\u001b[1;34m(nombre, start, end, gap)\u001b[0m\n\u001b[0;32m      3\u001b[0m   \u001b[0mL_result\u001b[0m\u001b[1;33m=\u001b[0m\u001b[1;33m[\u001b[0m\u001b[1;33m]\u001b[0m\u001b[1;33m\u001b[0m\u001b[1;33m\u001b[0m\u001b[0m\n\u001b[0;32m      4\u001b[0m   \u001b[1;32mfor\u001b[0m \u001b[0mproba\u001b[0m \u001b[1;32min\u001b[0m \u001b[0mL_proba\u001b[0m\u001b[1;33m:\u001b[0m\u001b[1;33m\u001b[0m\u001b[1;33m\u001b[0m\u001b[0m\n\u001b[1;32m----> 5\u001b[1;33m     \u001b[0mL_result\u001b[0m\u001b[1;33m.\u001b[0m\u001b[0mappend\u001b[0m\u001b[1;33m(\u001b[0m\u001b[0mENA\u001b[0m\u001b[1;33m(\u001b[0m\u001b[1;36m0\u001b[0m\u001b[1;33m,\u001b[0m\u001b[1;36m0\u001b[0m\u001b[1;33m,\u001b[0m\u001b[0mnombre\u001b[0m\u001b[1;33m,\u001b[0m\u001b[0mproba\u001b[0m\u001b[1;33m,\u001b[0m\u001b[0mproba\u001b[0m\u001b[1;33m)\u001b[0m\u001b[1;33m)\u001b[0m\u001b[1;33m\u001b[0m\u001b[1;33m\u001b[0m\u001b[0m\n\u001b[0m\u001b[0;32m      6\u001b[0m   \u001b[1;32mreturn\u001b[0m \u001b[0mL_proba\u001b[0m\u001b[1;33m,\u001b[0m\u001b[0mL_result\u001b[0m\u001b[1;33m\u001b[0m\u001b[1;33m\u001b[0m\u001b[0m\n",
      "\u001b[1;32m<ipython-input-26-3123b255c361>\u001b[0m in \u001b[0;36mENA\u001b[1;34m(a, h, n, proba, cout)\u001b[0m\n\u001b[0;32m     11\u001b[0m         \u001b[1;32melse\u001b[0m\u001b[1;33m:\u001b[0m\u001b[1;33m\u001b[0m\u001b[1;33m\u001b[0m\u001b[0m\n\u001b[0;32m     12\u001b[0m           \u001b[1;31m# il abandonne ou il continue à miner\u001b[0m\u001b[1;33m\u001b[0m\u001b[1;33m\u001b[0m\u001b[1;33m\u001b[0m\u001b[0m\n\u001b[1;32m---> 13\u001b[1;33m             \u001b[1;32mreturn\u001b[0m \u001b[0mmax\u001b[0m\u001b[1;33m(\u001b[0m\u001b[0mENA\u001b[0m\u001b[1;33m(\u001b[0m\u001b[1;36m0\u001b[0m\u001b[1;33m,\u001b[0m\u001b[1;36m0\u001b[0m\u001b[1;33m,\u001b[0m\u001b[0mn\u001b[0m\u001b[1;33m,\u001b[0m\u001b[0mq\u001b[0m\u001b[1;33m,\u001b[0m\u001b[0mc\u001b[0m\u001b[1;33m)\u001b[0m\u001b[1;33m,\u001b[0m\u001b[0mp\u001b[0m\u001b[1;33m*\u001b[0m\u001b[1;33m(\u001b[0m\u001b[0mENA\u001b[0m\u001b[1;33m(\u001b[0m\u001b[0ma\u001b[0m\u001b[1;33m,\u001b[0m\u001b[0mh\u001b[0m\u001b[1;33m+\u001b[0m\u001b[1;36m1\u001b[0m\u001b[1;33m,\u001b[0m\u001b[0mn\u001b[0m\u001b[1;33m-\u001b[0m\u001b[1;36m1\u001b[0m\u001b[1;33m,\u001b[0m\u001b[0mq\u001b[0m\u001b[1;33m,\u001b[0m\u001b[0mc\u001b[0m\u001b[1;33m)\u001b[0m\u001b[1;33m-\u001b[0m\u001b[0mc\u001b[0m\u001b[1;33m)\u001b[0m\u001b[1;33m+\u001b[0m\u001b[0mq\u001b[0m\u001b[1;33m*\u001b[0m\u001b[1;33m(\u001b[0m\u001b[0mENA\u001b[0m\u001b[1;33m(\u001b[0m\u001b[0ma\u001b[0m\u001b[1;33m+\u001b[0m\u001b[1;36m1\u001b[0m\u001b[1;33m,\u001b[0m\u001b[0mh\u001b[0m\u001b[1;33m,\u001b[0m\u001b[0mn\u001b[0m\u001b[1;33m-\u001b[0m\u001b[1;36m1\u001b[0m\u001b[1;33m,\u001b[0m\u001b[0mq\u001b[0m\u001b[1;33m,\u001b[0m\u001b[0mc\u001b[0m\u001b[1;33m)\u001b[0m\u001b[1;33m)\u001b[0m\u001b[1;33m)\u001b[0m\u001b[1;33m\u001b[0m\u001b[1;33m\u001b[0m\u001b[0m\n\u001b[0m",
      "... last 1 frames repeated, from the frame below ...\n",
      "\u001b[1;32m<ipython-input-26-3123b255c361>\u001b[0m in \u001b[0;36mENA\u001b[1;34m(a, h, n, proba, cout)\u001b[0m\n\u001b[0;32m     11\u001b[0m         \u001b[1;32melse\u001b[0m\u001b[1;33m:\u001b[0m\u001b[1;33m\u001b[0m\u001b[1;33m\u001b[0m\u001b[0m\n\u001b[0;32m     12\u001b[0m           \u001b[1;31m# il abandonne ou il continue à miner\u001b[0m\u001b[1;33m\u001b[0m\u001b[1;33m\u001b[0m\u001b[1;33m\u001b[0m\u001b[0m\n\u001b[1;32m---> 13\u001b[1;33m             \u001b[1;32mreturn\u001b[0m \u001b[0mmax\u001b[0m\u001b[1;33m(\u001b[0m\u001b[0mENA\u001b[0m\u001b[1;33m(\u001b[0m\u001b[1;36m0\u001b[0m\u001b[1;33m,\u001b[0m\u001b[1;36m0\u001b[0m\u001b[1;33m,\u001b[0m\u001b[0mn\u001b[0m\u001b[1;33m,\u001b[0m\u001b[0mq\u001b[0m\u001b[1;33m,\u001b[0m\u001b[0mc\u001b[0m\u001b[1;33m)\u001b[0m\u001b[1;33m,\u001b[0m\u001b[0mp\u001b[0m\u001b[1;33m*\u001b[0m\u001b[1;33m(\u001b[0m\u001b[0mENA\u001b[0m\u001b[1;33m(\u001b[0m\u001b[0ma\u001b[0m\u001b[1;33m,\u001b[0m\u001b[0mh\u001b[0m\u001b[1;33m+\u001b[0m\u001b[1;36m1\u001b[0m\u001b[1;33m,\u001b[0m\u001b[0mn\u001b[0m\u001b[1;33m-\u001b[0m\u001b[1;36m1\u001b[0m\u001b[1;33m,\u001b[0m\u001b[0mq\u001b[0m\u001b[1;33m,\u001b[0m\u001b[0mc\u001b[0m\u001b[1;33m)\u001b[0m\u001b[1;33m-\u001b[0m\u001b[0mc\u001b[0m\u001b[1;33m)\u001b[0m\u001b[1;33m+\u001b[0m\u001b[0mq\u001b[0m\u001b[1;33m*\u001b[0m\u001b[1;33m(\u001b[0m\u001b[0mENA\u001b[0m\u001b[1;33m(\u001b[0m\u001b[0ma\u001b[0m\u001b[1;33m+\u001b[0m\u001b[1;36m1\u001b[0m\u001b[1;33m,\u001b[0m\u001b[0mh\u001b[0m\u001b[1;33m,\u001b[0m\u001b[0mn\u001b[0m\u001b[1;33m-\u001b[0m\u001b[1;36m1\u001b[0m\u001b[1;33m,\u001b[0m\u001b[0mq\u001b[0m\u001b[1;33m,\u001b[0m\u001b[0mc\u001b[0m\u001b[1;33m)\u001b[0m\u001b[1;33m)\u001b[0m\u001b[1;33m)\u001b[0m\u001b[1;33m\u001b[0m\u001b[1;33m\u001b[0m\u001b[0m\n\u001b[0m",
      "\u001b[1;31mRecursionError\u001b[0m: maximum recursion depth exceeded in comparison"
     ]
    }
   ],
   "source": [
    "nombre=3\n",
    "L_proba,L_result = SimENA(nombre,0.01,0.51,0.0001)\n",
    "plotENA(L_proba,L_result)"
   ]
  },
  {
   "cell_type": "code",
   "execution_count": 25,
   "metadata": {},
   "outputs": [
    {
     "name": "stdout",
     "output_type": "stream",
     "text": [
      "3000\n"
     ]
    }
   ],
   "source": [
    "import sys\n",
    "print(sys.getrecursionlimit())\n",
    "#ENA(0,0,3,0.4,0.4)"
   ]
  },
  {
   "cell_type": "markdown",
   "metadata": {},
   "source": [
    "## 4) Cas quand l'attaquant paye les blocks orphelins"
   ]
  },
  {
   "cell_type": "code",
   "execution_count": 15,
   "metadata": {},
   "outputs": [],
   "source": [
    "# Il prend en compte les blocks Orphelins\n",
    "def EAA(a,h,n,proba,cout):\n",
    "    q=proba\n",
    "    p=1-proba\n",
    "    c=cout\n",
    "    if n<=-1:\n",
    "        return 0\n",
    "    else:\n",
    "        if(a>h+1):\n",
    "          # il écrase les blocks du réseau ou il continue à miner\n",
    "            return max(h+1-c*(h+1)+EAA(a-h-1,0,n,q,c),p*(EAA(a,h+1,n-1,q,c)-c)+q*(EAA(a+1,h,n-1,q,c)))\n",
    "        elif(a==h+1):\n",
    "          # il écrase les blocks du réseau ou il continue à miner\n",
    "            return max(h+1-c*(h+1),p*(EAA(a,h+1,n-1,q,c)-c)+q*(EAA(a+1,h,n-1,q,c)))\n",
    "        else:\n",
    "          # il abandonne ou il continue à miner\n",
    "            return max(0,p*(EAA(a,h+1,n-1,q,c)-c)+q*(EAA(a+1,h,n-1,q,c)))"
   ]
  },
  {
   "cell_type": "code",
   "execution_count": 16,
   "metadata": {},
   "outputs": [],
   "source": [
    "def SimEAA(nombre,start=0.01,end=0.51,gap=0.001):\n",
    "  L_proba=np.arange(start,end,gap)\n",
    "  L_result=[]\n",
    "  for proba in L_proba:\n",
    "    L_result.append(EAA(0,0,nombre,proba,proba))\n",
    "  return L_proba,L_result"
   ]
  },
  {
   "cell_type": "code",
   "execution_count": 17,
   "metadata": {},
   "outputs": [],
   "source": [
    "#graph de la simulation\n",
    "def plotEAA(L_proba,L_result):\n",
    "  L_zero=np.array([0]*len(L_proba))\n",
    "  fig,ax=plt.subplots()\n",
    "  plt.title(\"Simulation du Minage avec prise en compte les blocks orphelins\")\n",
    "  ax.plot(L_proba,L_zero,marker=\"_\",color='black')\n",
    "  ax.plot(L_proba,L_result,marker=\"_\",color='blue')\n",
    "  ax.legend([\"Zeros\",\"result\"])\n",
    "  plt.show()\n",
    "  idx = np.argwhere(np.diff(np.sign(L_zero - L_result))).flatten() #index intersection Exp\n",
    "  return L_proba[idx]"
   ]
  },
  {
   "cell_type": "code",
   "execution_count": 18,
   "metadata": {},
   "outputs": [
    {
     "data": {
      "image/png": "[encoded data removed]",
      "text/plain": [
       "<Figure size 432x288 with 1 Axes>"
      ]
     },
     "metadata": {
      "needs_background": "light"
     },
     "output_type": "display_data"
    },
    {
     "data": {
      "text/plain": [
       "array([], dtype=float64)"
      ]
     },
     "execution_count": 18,
     "metadata": {},
     "output_type": "execute_result"
    }
   ],
   "source": [
    "nombre=3\n",
    "L_proba,L_result = SimEAA(nombre,0.01,1,0.001)\n",
    "plotEAA(L_proba,L_result)"
   ]
  },
  {
   "cell_type": "code",
   "execution_count": 19,
   "metadata": {},
   "outputs": [
    {
     "data": {
      "image/png": "[encoded data removed]",
      "text/plain": [
       "<Figure size 432x288 with 1 Axes>"
      ]
     },
     "metadata": {
      "needs_background": "light"
     },
     "output_type": "display_data"
    },
    {
     "data": {
      "text/plain": [
       "array([], dtype=float64)"
      ]
     },
     "execution_count": 19,
     "metadata": {},
     "output_type": "execute_result"
    }
   ],
   "source": [
    "nombre=10\n",
    "L_proba,L_result = SimEAA(nombre,0.01,0.6,0.01)\n",
    "plotEAA(L_proba,L_result)"
   ]
  },
  {
   "cell_type": "raw",
   "metadata": {},
   "source": [
    "# On voit que pour tous n, E(n,a,h,q,q) = 0\n",
    "# Il faut donc être toujours honnête !"
   ]
  },
  {
   "cell_type": "markdown",
   "metadata": {},
   "source": [
    "<h1><center>Fin Du TD</center></h1>"
   ]
  },
  {
   "cell_type": "code",
   "execution_count": null,
   "metadata": {},
   "outputs": [],
   "source": []
  }
 ],
 "metadata": {
  "kernelspec": {
   "display_name": "Python 3",
   "language": "python",
   "name": "python3"
  },
  "language_info": {
   "codemirror_mode": {
    "name": "ipython",
    "version": 3
   },
   "file_extension": ".py",
   "mimetype": "text/x-python",
   "name": "python",
   "nbconvert_exporter": "python",
   "pygments_lexer": "ipython3",
   "version": "3.7.4"
  }
 },
 "nbformat": 4,
 "nbformat_minor": 2
}
