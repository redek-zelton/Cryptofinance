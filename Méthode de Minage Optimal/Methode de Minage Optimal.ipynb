{
 "cells": [
  {
   "cell_type": "markdown",
   "metadata": {},
   "source": [
    "# Méthode de Stratégie de Minage Optimal"
   ]
  },
  {
   "cell_type": "markdown",
   "metadata": {},
   "source": [
    "## 1) Importation des librairies et creation de fonction "
   ]
  },
  {
   "cell_type": "code",
   "execution_count": 1,
   "metadata": {},
   "outputs": [],
   "source": [
    "#Importation des Bibliothèques\n",
    "import random as rd\n",
    "import numpy as np\n",
    "import matplotlib.pyplot as plt"
   ]
  },
  {
   "cell_type": "markdown",
   "metadata": {},
   "source": [
    "## 2) Méthode d'optimisation de minage sans Ajustement de Blocks"
   ]
  },
  {
   "cell_type": "markdown",
   "metadata": {},
   "source": [
    "### a) Creation des Fonctions"
   ]
  },
  {
   "cell_type": "code",
   "execution_count": 2,
   "metadata": {},
   "outputs": [],
   "source": [
    "# fonction d'optimisation de minage sans Ajustement de Blocks\n",
    "# Le miner paye à chaque fois que le réseau trouve un block ou qu'il publie ses blocks\n",
    "# En revanche, il ne paye pas losqu'il abandonne son attaque\n",
    "# a est le nombre de block appartenant à l'attaquant\n",
    "# h est le nombre de block miné par le réseau\n",
    "# n est le nombre d'action possible par l'attaquant (miner, écraser, abandonner)\n",
    "def ESA(a,h,n,proba,cout):\n",
    "    q=proba\n",
    "    p=1-proba\n",
    "    c=cout\n",
    "    if n<=-1:\n",
    "        return 0\n",
    "    else:\n",
    "        if(a>h+1):\n",
    "          # il écrase les blocks du réseau ou il continue à miner\n",
    "            return max(h+1-c+ESA(a-h-1,0,n,q,c),p*(ESA(a,h+1,n-1,q,c)-c)+q*(ESA(a+1,h,n-1,q,c)))\n",
    "        elif(a==h+1):\n",
    "          # il écrase les blocks du réseau ou il continue à miner\n",
    "            return max(h+1-c,p*(ESA(a,h+1,n-1,q,c)-c)+q*(ESA(a+1,h,n-1,q,c)))\n",
    "        else:\n",
    "          # il abandonne ou il continue à miner\n",
    "            return max(0,p*(ESA(a,h+1,n-1,q,c)-c)+q*(ESA(a+1,h,n-1,q,c)))"
   ]
  },
  {
   "cell_type": "code",
   "execution_count": 4,
   "metadata": {},
   "outputs": [],
   "source": [
    "# Simulation du fonction d'optimisation de minage sans Ajustement de Blocks n (nombre) fois\n",
    "def SimESA(nombre,start=0.01,end=0.51,gap=0.001):\n",
    "  L_proba=np.arange(start,end,gap)\n",
    "  L_result=[]\n",
    "  for proba in L_proba:\n",
    "    L_result.append(ESA(0,0,nombre,proba,proba))\n",
    "  return L_proba,L_result"
   ]
  },
  {
   "cell_type": "code",
   "execution_count": 5,
   "metadata": {},
   "outputs": [],
   "source": [
    "#graph de la simulation\n",
    "def plotESA(L_proba,L_result):\n",
    "  L_zero=np.array([0]*len(L_proba))\n",
    "  fig,ax=plt.subplots()\n",
    "  plt.title(\"Simulation du Minage avec optimisation sans ajustement\")\n",
    "  ax.plot(L_proba,L_zero,marker=\"_\",color='black')\n",
    "  ax.plot(L_proba,L_result,marker=\"_\",color='blue')\n",
    "  ax.legend([\"Zeros\",\"result\"])\n",
    "  plt.show()\n",
    "  idx = np.argwhere(np.diff(np.sign(L_zero - L_result))).flatten() #index intersection Exp\n",
    "  return L_proba[idx]"
   ]
  },
  {
   "cell_type": "markdown",
   "metadata": {},
   "source": [
    "### b) Lien minage optimisation et attack 1+2"
   ]
  },
  {
   "cell_type": "code",
   "execution_count": 6,
   "metadata": {},
   "outputs": [
    {
     "data": {
      "image/png": "[encoded data removed]",
      "text/plain": [
       "<Figure size 432x288 with 1 Axes>"
      ]
     },
     "metadata": {
      "needs_background": "light"
     },
     "output_type": "display_data"
    },
    {
     "data": {
      "text/plain": [
       "array([0.4142])"
      ]
     },
     "execution_count": 6,
     "metadata": {},
     "output_type": "execute_result"
    }
   ],
   "source": [
    "# Le minage 1+2 est une attaque qui dure au maximun 3 blocks\n",
    "# On va le comparer avec le minage d'optimisation de minage sans Ajustement de Blocks en profondeur 3\n",
    "nombre=3\n",
    "L_proba,L_result = SimESA(nombre,0.01,0.51,0.0001)\n",
    "plotESA(L_proba,L_result)\n",
    "# le minage est rentable pour un même puissance de Hashage"
   ]
  },
  {
   "cell_type": "markdown",
   "metadata": {},
   "source": [
    "### c) Seuil de rentabilité"
   ]
  },
  {
   "cell_type": "code",
   "execution_count": 7,
   "metadata": {},
   "outputs": [
    {
     "data": {
      "image/png": "[encoded data removed]",
      "text/plain": [
       "<Figure size 432x288 with 1 Axes>"
      ]
     },
     "metadata": {
      "needs_background": "light"
     },
     "output_type": "display_data"
    },
    {
     "data": {
      "text/plain": [
       "array([0.33])"
      ]
     },
     "execution_count": 7,
     "metadata": {},
     "output_type": "execute_result"
    }
   ],
   "source": [
    "nombre=12\n",
    "L_proba,L_result = SimESA(nombre,0.01,0.51,0.01)\n",
    "plotESA(L_proba,L_result)\n",
    "# plus le nombre augmente plus la puissance de hashage demandée diminue, on doit atteindre au dessus des 33% puissance du réseau"
   ]
  },
  {
   "cell_type": "markdown",
   "metadata": {},
   "source": [
    "## 3) Méthode d'optimisation de minage avec Ajustement de Blocks"
   ]
  },
  {
   "cell_type": "code",
   "execution_count": 8,
   "metadata": {},
   "outputs": [],
   "source": [
    "# fonction d'optimisation de minage avec Ajustement de Blocks\n",
    "# Le miner paye à chaque fois que le réseau trouve un block ou qu'il publie ses blocks\n",
    "# De plus, il paye losqu'il abandonne son attaque\n",
    "def EAA(a,h,n,proba,cout):\n",
    "    q=proba\n",
    "    p=1-proba\n",
    "    c=cout\n",
    "    if n<=-1:\n",
    "        return 0\n",
    "    else:\n",
    "        if(a>h+1):\n",
    "          # il écrase les blocks du réseau ou il continue à miner\n",
    "            return max(h+1-c*(h+1)+EAA(a-h-1,0,n,q,c),p*(EAA(a,h+1,n-1,q,c))+q*(EAA(a+1,h,n-1,q,c)))\n",
    "        elif(a==h+1):\n",
    "          # il écrase les blocks du réseau ou il continue à miner\n",
    "            return max(h+1-c*(h+1),p*(EAA(a,h+1,n-1,q,c))+q*(EAA(a+1,h,n-1,q,c)))\n",
    "        else:\n",
    "          # il continue à miner\n",
    "            return p*(EAA(a,h+1,n-1,q,c)-c)+q*(EAA(a+1,h,n-1,q,c))"
   ]
  },
  {
   "cell_type": "code",
   "execution_count": 9,
   "metadata": {},
   "outputs": [],
   "source": [
    " # Simulation du fonction d'optimisation de minage sans Ajustement de Blocks n (nombre) fois\n",
    "def SimEAA(nombre,start=0.01,end=0.51,gap=0.001):\n",
    "  L_proba=np.arange(start,end,gap)\n",
    "  L_result=[]\n",
    "  for proba in L_proba:\n",
    "    L_result.append(EAA(0,0,nombre,proba,proba))\n",
    "  return L_proba,L_result"
   ]
  },
  {
   "cell_type": "code",
   "execution_count": 10,
   "metadata": {},
   "outputs": [],
   "source": [
    "#graph de la simulation\n",
    "def plotEAA(L_proba,L_result):\n",
    "  L_zero=np.array([0]*len(L_proba))\n",
    "  fig,ax=plt.subplots()\n",
    "  plt.title(\"Simulation du Minage avec optimisation avec ajustement\")\n",
    "  ax.plot(L_proba,L_zero,marker=\"_\",color='black')\n",
    "  ax.plot(L_proba,L_result,marker=\"_\",color='blue')\n",
    "  ax.legend([\"Zeros\",\"result\"])\n",
    "  plt.show()\n",
    "  idx = np.argwhere(np.diff(np.sign(L_zero - L_result))).flatten() #index intersection Exp\n",
    "  return L_proba[idx]"
   ]
  },
  {
   "cell_type": "code",
   "execution_count": 11,
   "metadata": {},
   "outputs": [
    {
     "data": {
      "image/png": "[encoded data removed]",
      "text/plain": [
       "<Figure size 432x288 with 1 Axes>"
      ]
     },
     "metadata": {
      "needs_background": "light"
     },
     "output_type": "display_data"
    },
    {
     "data": {
      "text/plain": [
       "array([0.578])"
      ]
     },
     "execution_count": 11,
     "metadata": {},
     "output_type": "execute_result"
    }
   ],
   "source": [
    "nombre=3\n",
    "L_proba,L_result = SimEAA(nombre,0.01,1,0.001)\n",
    "plotEAA(L_proba,L_result)"
   ]
  },
  {
   "cell_type": "code",
   "execution_count": 12,
   "metadata": {},
   "outputs": [
    {
     "data": {
      "image/png": "[encoded data removed]",
      "text/plain": [
       "<Figure size 432x288 with 1 Axes>"
      ]
     },
     "metadata": {
      "needs_background": "light"
     },
     "output_type": "display_data"
    },
    {
     "data": {
      "text/plain": [
       "array([0.51])"
      ]
     },
     "execution_count": 12,
     "metadata": {},
     "output_type": "execute_result"
    }
   ],
   "source": [
    "nombre=10\n",
    "L_proba,L_result = SimEAA(nombre,0.01,0.6,0.01)\n",
    "plotEAA(L_proba,L_result)"
   ]
  },
  {
   "cell_type": "raw",
   "metadata": {},
   "source": [
    "# Avec l'Ajustement des blocks, on voit que le coût pour miner est significative!\n",
    "# Cela force le miner à avoir plus de puissance."
   ]
  },
  {
   "cell_type": "markdown",
   "metadata": {},
   "source": [
    "<h1><center>Fin Du TD</center></h1>"
   ]
  },
  {
   "cell_type": "code",
   "execution_count": null,
   "metadata": {},
   "outputs": [],
   "source": []
  }
 ],
 "metadata": {
  "kernelspec": {
   "display_name": "Python 3",
   "language": "python",
   "name": "python3"
  },
  "language_info": {
   "codemirror_mode": {
    "name": "ipython",
    "version": 3
   },
   "file_extension": ".py",
   "mimetype": "text/x-python",
   "name": "python",
   "nbconvert_exporter": "python",
   "pygments_lexer": "ipython3",
   "version": "3.7.4"
  }
 },
 "nbformat": 4,
 "nbformat_minor": 2
}
