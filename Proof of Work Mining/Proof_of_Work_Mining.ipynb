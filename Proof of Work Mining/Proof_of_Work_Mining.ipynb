{
 "cells": [
  {
   "cell_type": "markdown",
   "metadata": {},
   "source": [
    "# Proof Of Work Mining"
   ]
  },
  {
   "cell_type": "markdown",
   "metadata": {},
   "source": [
    "### 1) Importation de Librairie et Création de Fonction"
   ]
  },
  {
   "cell_type": "code",
   "execution_count": 40,
   "metadata": {},
   "outputs": [],
   "source": [
    "#Importation des Librairie\n",
    "import hashlib\n",
    "from time import time\n",
    "import numpy as np\n",
    "from scipy.stats import norm\n",
    "import matplotlib.pyplot as plt"
   ]
  },
  {
   "cell_type": "code",
   "execution_count": 2,
   "metadata": {},
   "outputs": [],
   "source": [
    "# Hash d'un block précédent et d'un nombre aléatoire\n",
    "def PoW(previous_block,difficulty):\n",
    "    #Initialisation à 0\n",
    "    val_hash=previous_block\n",
    "    nonce=1\n",
    "    h=hashlib.sha256()\n",
    "    h.update(previous_block.encode())\n",
    "    h.update(str(nonce).encode())\n",
    "    val_hash=h.hexdigest()\n",
    "    # Hash en continue jusqu'à réussir la difficulté\n",
    "    while val_hash[0:difficulty] != difficulty*\"0\":\n",
    "        nonce+=1\n",
    "        h=hashlib.sha256()\n",
    "        h.update(previous_block.encode())\n",
    "        h.update(str(nonce).encode())\n",
    "        val_hash=h.hexdigest()\n",
    "    return val_hash,nonce"
   ]
  },
  {
   "cell_type": "code",
   "execution_count": 3,
   "metadata": {},
   "outputs": [],
   "source": [
    "# Simulation avec un nombre \n",
    "def Simulation(previous_block,difficulty,nombre):\n",
    "    L_Temps=[]\n",
    "    L_Hash=[]\n",
    "    L_Nonce=[]\n",
    "    for i in range(nombre):\n",
    "        Start=time()\n",
    "        val_hash,nonce = PoW(previous_block,difficulty)\n",
    "        End=time()\n",
    "        L_Temps.append(End-Start)\n",
    "        L_Hash.append(val_hash)\n",
    "        L_Nonce.append(nonce)\n",
    "        previous_block=val_hash\n",
    "    return L_Temps,L_Hash,L_Nonce"
   ]
  },
  {
   "cell_type": "markdown",
   "metadata": {},
   "source": [
    "### 2) Démonstration que la Difficultée suit une fonction exponentielle"
   ]
  },
  {
   "cell_type": "code",
   "execution_count": 4,
   "metadata": {},
   "outputs": [],
   "source": [
    "def Augmentation(previous_block,max_diff,nombre):\n",
    "    L_H=[]\n",
    "    L_N=[]\n",
    "    for difficulty in range(max_diff+1):\n",
    "        L_Temps,L_Hash,L_Nonce=Simulation(previous_block,difficulty,nombre)\n",
    "        L_H.append(L_Hash)\n",
    "        L_N.append(L_Nonce)\n",
    "    return L_H,L_N\n",
    "\n",
    "# return the mean of nonce for a difficuty\n",
    "def Moyenne(L_N):\n",
    "    Moy=[]\n",
    "    for nonces in L_N:\n",
    "        Moy.append(np.mean(nonces))\n",
    "    return Moy"
   ]
  },
  {
   "cell_type": "code",
   "execution_count": 15,
   "metadata": {},
   "outputs": [],
   "source": [
    "#Cas Théorique la fonction de Hashage suit une loi exponentielle 16^x avec x la difficulté\n",
    "def Theorique(max_diff):\n",
    "    #the highest nonce can be found to success\n",
    "    Sur=[]\n",
    "    #the mean of nonce to success\n",
    "    Moy=[]\n",
    "    #the quickest time when you have n-1 0 before\n",
    "    Rap=[]\n",
    "    for i in range(max_diff+1):\n",
    "        Sur.append(16**i)\n",
    "        Moy.append(int(16**i/2+1))\n",
    "        Rap.append((16**(i)/16)+1)\n",
    "    return Sur,Moy,Rap"
   ]
  },
  {
   "cell_type": "code",
   "execution_count": 16,
   "metadata": {},
   "outputs": [],
   "source": [
    "#Paramètres\n",
    "previous_block=\"\"\n",
    "max_diff=6\n",
    "nombre=5\n",
    "#Liste of Hash sorted by difficulty\n",
    "D_H=[]\n",
    "#Liste of nonce found for hash\n",
    "D_N=[]\n",
    "D_Moyenne=[]\n",
    "#Theorique\n",
    "Sur=[]\n",
    "Moy=[]\n",
    "Rap=[]"
   ]
  },
  {
   "cell_type": "code",
   "execution_count": 17,
   "metadata": {},
   "outputs": [],
   "source": [
    "D_H,D_N = Augmentation(previous_block,max_diff,nombre)\n",
    "D_Moyenne = Moyenne(D_N)\n",
    "Sur,Moy,Rap = Theorique(max_diff)"
   ]
  },
  {
   "cell_type": "code",
   "execution_count": 23,
   "metadata": {},
   "outputs": [
    {
     "data": {
      "image/png": "[encoded data removed]",
      "text/plain": [
       "<Figure size 432x288 with 1 Axes>"
      ]
     },
     "metadata": {
      "needs_background": "light"
     },
     "output_type": "display_data"
    }
   ],
   "source": [
    "fig,ax=plt.subplots()\n",
    "ax.plot(np.arange(max_diff+1),D_Moyenne,marker=\"o\",color='blue')\n",
    "ax.plot(np.arange(max_diff+1),Sur,marker=\"o\",color='red')\n",
    "ax.plot(np.arange(max_diff+1),Moy,marker=\"o\",color='orange')\n",
    "ax.plot(np.arange(max_diff+1),Rap,marker=\"o\",color='black')\n",
    "ax.legend(['expérience','Highest','Mean','Quickest'])\n",
    "ax.set_xlabel(\"Difficulty\",color=\"blue\",fontsize=14)\n",
    "ax.set_ylabel(\"Nonces\",color=\"red\",fontsize=14)\n",
    "\n",
    "plt.show()"
   ]
  },
  {
   "cell_type": "markdown",
   "metadata": {},
   "source": [
    "<p>la fonction de difficulté suit un fonction exponentielle f(x) = 16^x/2</p>"
   ]
  },
  {
   "cell_type": "markdown",
   "metadata": {},
   "source": [
    "### 3) Démonstration que pour une Difficultée fixée, le temps de minage suit une loi exponentielle"
   ]
  },
  {
   "cell_type": "code",
   "execution_count": 24,
   "metadata": {},
   "outputs": [],
   "source": [
    "def Package(previous_block,difficulty,nombre):\n",
    "    Pack=[]\n",
    "    L_T,L_H,L_N=Simulation(previous_block,difficulty,nombre)\n",
    "    Pack.append([L_T,L_H,L_N])\n",
    "    return Pack"
   ]
  },
  {
   "cell_type": "code",
   "execution_count": 25,
   "metadata": {},
   "outputs": [],
   "source": [
    "# P(X>target)=p\n",
    "def Exp(L_Temps,target):\n",
    "    under=0\n",
    "    for temps in L_Temps:\n",
    "        if temps>target:\n",
    "            under+=1\n",
    "    return under/len(L_Temps)"
   ]
  },
  {
   "cell_type": "code",
   "execution_count": 26,
   "metadata": {},
   "outputs": [],
   "source": [
    "nombre=1000\n",
    "previous_block=\"\"\n",
    "#Simulation de difficulté 0\n",
    "Pack0 = Package(previous_block,0,nombre)\n",
    "#Simulation de difficulté 1\n",
    "Pack1 = Package(previous_block,1,nombre)\n",
    "#Simulation de difficulté 2\n",
    "Pack2 = Package(previous_block,2,nombre)\n",
    "#Simulation de difficulté 3\n",
    "Pack3 = Package(previous_block,3,nombre)\n",
    "#Simulation de difficulté 4\n",
    "Pack4 = Package(previous_block,4,nombre)"
   ]
  },
  {
   "cell_type": "code",
   "execution_count": 27,
   "metadata": {},
   "outputs": [],
   "source": [
    "max_time=max(Pack4[0][0])\n",
    "Y0_Exp=[]\n",
    "Y1_Exp=[]\n",
    "Y2_Exp=[]\n",
    "Y3_Exp=[]\n",
    "Y4_Exp=[]\n",
    "X_axis=np.arange(0,max_time,0.01)\n",
    "for target in X_axis:\n",
    "    Y0_Exp.append(Exp(Pack0[0][0],target))\n",
    "    Y1_Exp.append(Exp(Pack1[0][0],target))\n",
    "    Y2_Exp.append(Exp(Pack2[0][0],target))\n",
    "    Y3_Exp.append(Exp(Pack3[0][0],target))\n",
    "    Y4_Exp.append(Exp(Pack4[0][0],target))"
   ]
  },
  {
   "cell_type": "code",
   "execution_count": 29,
   "metadata": {},
   "outputs": [
    {
     "data": {
      "text/plain": [
       "Text(0, 0.5, 'Proba')"
      ]
     },
     "execution_count": 29,
     "metadata": {},
     "output_type": "execute_result"
    },
    {
     "data": {
      "image/png": "[encoded data removed]",
      "text/plain": [
       "<Figure size 432x288 with 1 Axes>"
      ]
     },
     "metadata": {
      "needs_background": "light"
     },
     "output_type": "display_data"
    }
   ],
   "source": [
    "fig,ax=plt.subplots()\n",
    "plt.title('loi exponentielle')\n",
    "ax.plot(X_axis,Y0_Exp,marker=\"o\",color='yellow')\n",
    "ax.plot(X_axis,Y1_Exp,marker=\"o\",color='orange')\n",
    "ax.plot(X_axis,Y2_Exp,marker=\"o\",color='red')\n",
    "ax.plot(X_axis,Y3_Exp,marker=\"o\",color='blue')\n",
    "ax.plot(X_axis,Y4_Exp,marker=\"o\",color='black')\n",
    "ax.legend(['difficulty_0','difficulty_1','difficulty_2','difficulty_3','difficulty_4'])\n",
    "ax.set_xlabel(\"Temps\",color=\"blue\",fontsize=14)\n",
    "ax.set_ylabel(\"Proba\",color=\"red\",fontsize=14)"
   ]
  },
  {
   "cell_type": "code",
   "execution_count": 30,
   "metadata": {},
   "outputs": [
    {
     "data": {
      "image/png": "[encoded data removed]",
      "text/plain": [
       "<Figure size 432x288 with 6 Axes>"
      ]
     },
     "metadata": {
      "needs_background": "light"
     },
     "output_type": "display_data"
    }
   ],
   "source": [
    "fig, ax = plt.subplots(2, 3,sharey=True)\n",
    "#Plot Difficulty 0\n",
    "Y0=[]\n",
    "X0=np.arange(0,max(Pack0[0][0])+0.01,0.001)\n",
    "for target in X0:\n",
    "    Y0.append(Exp(Pack0[0][0],target))\n",
    "ax[0,0].plot(X0,Y0,marker=\"o\",color='yellow')\n",
    "ax[0,0].set_title(\"Difficulty 0\")\n",
    "\n",
    "#Plot Difficulty 1\n",
    "Y1=[]\n",
    "X1=np.arange(0,max(Pack1[0][0])+0.01,0.001)\n",
    "for target in X1:\n",
    "    Y1.append(Exp(Pack1[0][0],target))\n",
    "ax[0,1].plot(X1,Y1,marker=\"o\",color='orange')\n",
    "ax[0,1].set_title(\"Difficulty 1\")\n",
    "\n",
    "#Plot Difficulty 2\n",
    "Y2=[]\n",
    "X2=np.arange(0,max(Pack2[0][0])+0.01,0.001)\n",
    "for target in X2:\n",
    "    Y2.append(Exp(Pack2[0][0],target))\n",
    "ax[0,2].plot(X2,Y2,marker=\"o\",color='red')\n",
    "ax[0,2].set_title(\"Difficulty 2\")\n",
    "\n",
    "#Plot Difficulty 3\n",
    "Y3=[]\n",
    "X3=np.arange(0,max(Pack3[0][0])+0.01,0.001)\n",
    "for target in X3:\n",
    "    Y3.append(Exp(Pack3[0][0],target))\n",
    "ax[1,0].plot(X3,Y3,marker=\"o\",color='blue')\n",
    "ax[1,0].set_title(\"Difficulty 3\")\n",
    "\n",
    "#Plot Difficulty 4\n",
    "Y4=[]\n",
    "X4=np.arange(0,max(Pack4[0][0])+0.01,0.001)\n",
    "for target in X4:\n",
    "    Y4.append(Exp(Pack4[0][0],target))\n",
    "ax[1,1].plot(X4,Y4,marker=\"o\",color='red')\n",
    "ax[1,1].set_title(\"Difficulty 4\")\n",
    "\n",
    "plt.tight_layout()\n",
    "plt.show()"
   ]
  },
  {
   "cell_type": "markdown",
   "metadata": {},
   "source": [
    "<p>On observe bien la loi exponentielle</p>"
   ]
  },
  {
   "cell_type": "markdown",
   "metadata": {},
   "source": [
    "### 3) Applications"
   ]
  },
  {
   "cell_type": "markdown",
   "metadata": {},
   "source": [
    "#### a) Paramétrage"
   ]
  },
  {
   "cell_type": "code",
   "execution_count": 31,
   "metadata": {},
   "outputs": [
    {
     "name": "stdout",
     "output_type": "stream",
     "text": [
      "Le Hash du block précédent: 0x\n",
      "La difficulté: 3\n",
      "le nombre de Simulation: 500\n"
     ]
    }
   ],
   "source": [
    "Previous = str(input('Le Hash du block précédent: '))\n",
    "Difficulty = eval(input('La difficulté: '))\n",
    "Nombre = eval(input('le nombre de Simulation: '))"
   ]
  },
  {
   "cell_type": "code",
   "execution_count": 51,
   "metadata": {},
   "outputs": [
    {
     "data": {
      "text/plain": [
       "Text(0, 0.5, 'Proba')"
      ]
     },
     "execution_count": 51,
     "metadata": {},
     "output_type": "execute_result"
    },
    {
     "data": {
      "image/png": "[encoded data removed]",
      "text/plain": [
       "<Figure size 432x288 with 1 Axes>"
      ]
     },
     "metadata": {
      "needs_background": "light"
     },
     "output_type": "display_data"
    }
   ],
   "source": [
    "Application = Package(Previous,Difficulty,Nombre)\n",
    "Y=[]\n",
    "X = np.arange(0,max(Application[0][0])+0.01,0.001)\n",
    "for target in X:\n",
    "    Y.append(Exp(Application[0][0],target))\n",
    "fig,ax=plt.subplots()\n",
    "plt.title('APPLICATION')\n",
    "ax.plot(X,Y,marker=\"o\",color='black')\n",
    "ax.set_xlabel(\"Temps\",color=\"blue\",fontsize=14)\n",
    "ax.set_ylabel(\"Proba\",color=\"red\",fontsize=14)"
   ]
  },
  {
   "cell_type": "markdown",
   "metadata": {},
   "source": [
    "#### b) Calcule "
   ]
  },
  {
   "cell_type": "code",
   "execution_count": 52,
   "metadata": {},
   "outputs": [
    {
     "name": "stdout",
     "output_type": "stream",
     "text": [
      "Donner la Probabilité: 0.012\n"
     ]
    }
   ],
   "source": [
    "#Chercher un Temps spécifique\n",
    "Proba = eval(input('Donner la Probabilité: '))\n",
    "Y_Proba=[Proba]*len(X)"
   ]
  },
  {
   "cell_type": "code",
   "execution_count": 53,
   "metadata": {},
   "outputs": [
    {
     "data": {
      "text/plain": [
       "Text(0, 0.5, 'Proba')"
      ]
     },
     "execution_count": 53,
     "metadata": {},
     "output_type": "execute_result"
    },
    {
     "data": {
      "image/png": "[encoded data removed]",
      "text/plain": [
       "<Figure size 432x288 with 1 Axes>"
      ]
     },
     "metadata": {
      "needs_background": "light"
     },
     "output_type": "display_data"
    }
   ],
   "source": [
    "fig,ax=plt.subplots()\n",
    "plt.title('APPLICATION PROBA')\n",
    "ax.plot(X,Y,marker=\"_\",color='black')\n",
    "ax.plot(X,Y_Proba,marker=\"_\",color='red')\n",
    "ax.set_xlabel(\"Temps\",color=\"blue\",fontsize=14)\n",
    "ax.set_ylabel(\"Proba\",color=\"red\",fontsize=14)"
   ]
  },
  {
   "cell_type": "code",
   "execution_count": 54,
   "metadata": {},
   "outputs": [],
   "source": [
    "def intersectionHorizontal(Y,Proba):\n",
    "    value = [i for i in Y if i < Proba][0]\n",
    "    return Y.index(value)"
   ]
  },
  {
   "cell_type": "code",
   "execution_count": 55,
   "metadata": {},
   "outputs": [
    {
     "name": "stdout",
     "output_type": "stream",
     "text": [
      "Pour une Probabilité de 0.012 il faut 0.111 secondes!\n"
     ]
    }
   ],
   "source": [
    "idxH = intersectionHorizontal(Y,Proba)\n",
    "print('Pour une Probabilité de '+str(Proba)+' il faut '+str(X[idxH])+' secondes!')"
   ]
  },
  {
   "cell_type": "code",
   "execution_count": 59,
   "metadata": {},
   "outputs": [
    {
     "name": "stdout",
     "output_type": "stream",
     "text": [
      "Donner le Temps: 0.07\n"
     ]
    }
   ],
   "source": [
    "#Chercher une proba spécifique\n",
    "Temps = eval(input('Donner le Temps: '))"
   ]
  },
  {
   "cell_type": "code",
   "execution_count": 60,
   "metadata": {},
   "outputs": [],
   "source": [
    "def intersectionVertical(X,Temps):\n",
    "    value = [i for i in X if Temps < i][0]\n",
    "    return np.where(X == value)[0][0]"
   ]
  },
  {
   "cell_type": "code",
   "execution_count": 61,
   "metadata": {},
   "outputs": [
    {
     "name": "stdout",
     "output_type": "stream",
     "text": [
      "Pour un temps de 0.07 on a 0.05 en probabilité!\n"
     ]
    }
   ],
   "source": [
    "idxV = intersectionVertical(X,Temps)\n",
    "print('Pour un temps de '+str(Temps)+' on a '+str(Y[idxV])+' en probabilité!')"
   ]
  },
  {
   "cell_type": "code",
   "execution_count": null,
   "metadata": {},
   "outputs": [],
   "source": []
  },
  {
   "cell_type": "code",
   "execution_count": null,
   "metadata": {},
   "outputs": [],
   "source": []
  }
 ],
 "metadata": {
  "kernelspec": {
   "display_name": "Python 3",
   "language": "python",
   "name": "python3"
  },
  "language_info": {
   "codemirror_mode": {
    "name": "ipython",
    "version": 3
   },
   "file_extension": ".py",
   "mimetype": "text/x-python",
   "name": "python",
   "nbconvert_exporter": "python",
   "pygments_lexer": "ipython3",
   "version": "3.7.4"
  }
 },
 "nbformat": 4,
 "nbformat_minor": 5
}
