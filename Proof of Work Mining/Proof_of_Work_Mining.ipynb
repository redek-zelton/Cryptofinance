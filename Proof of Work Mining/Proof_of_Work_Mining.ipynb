{
 "cells": [
  {
   "cell_type": "markdown",
   "id": "1ee3f072",
   "metadata": {},
   "source": [
    "# Proof Of Work Mining"
   ]
  },
  {
   "cell_type": "markdown",
   "id": "f69f8c2e",
   "metadata": {},
   "source": [
    "### 1) Importation de Librairie et Création de Fonction"
   ]
  },
  {
   "cell_type": "code",
   "execution_count": 1,
   "id": "fc7dc067",
   "metadata": {},
   "outputs": [],
   "source": [
    "#Importation des Librairie\n",
    "import hashlib\n",
    "from time import time\n",
    "import numpy as np\n",
    "import matplotlib.pyplot as plt"
   ]
  },
  {
   "cell_type": "code",
   "execution_count": 38,
   "id": "4b091eb9",
   "metadata": {},
   "outputs": [],
   "source": [
    "# Hash d'un block précédent et d'un nombre aléatoire\n",
    "def PoW(previous_block,difficulty):\n",
    "    #Initialisation à 0\n",
    "    val_hash=previous_block\n",
    "    nonce=1\n",
    "    h=hashlib.sha256()\n",
    "    h.update(previous_block.encode())\n",
    "    h.update(str(nonce).encode())\n",
    "    val_hash=h.hexdigest()\n",
    "    # Hash en continue jusqu'à réussir la difficulté\n",
    "    while val_hash[0:difficulty] != difficulty*\"0\":\n",
    "        nonce+=1\n",
    "        h=hashlib.sha256()\n",
    "        h.update(previous_block.encode())\n",
    "        h.update(str(nonce).encode())\n",
    "        val_hash=h.hexdigest()\n",
    "    return val_hash,nonce"
   ]
  },
  {
   "cell_type": "code",
   "execution_count": 39,
   "id": "232578bc",
   "metadata": {},
   "outputs": [],
   "source": [
    "# Simulation avec un nombre \n",
    "def Simulation(previous_block,difficulty,nombre):\n",
    "    L_Temps=[]\n",
    "    L_Hash=[]\n",
    "    L_Nonce=[]\n",
    "    for i in range(nombre):\n",
    "        Start=time()\n",
    "        val_hash,nonce = PoW(previous_block,difficulty)\n",
    "        End=time()\n",
    "        L_Temps.append(End-Start)\n",
    "        L_Hash.append(val_hash)\n",
    "        L_Nonce.append(nonce)\n",
    "        previous_block=val_hash\n",
    "    return L_Temps,L_Hash,L_Nonce"
   ]
  },
  {
   "cell_type": "markdown",
   "id": "1223444d",
   "metadata": {},
   "source": [
    "### 2) Démonstration que la Difficultée suit une fonction exponentielle"
   ]
  },
  {
   "cell_type": "code",
   "execution_count": 40,
   "id": "ffbb68e7",
   "metadata": {},
   "outputs": [],
   "source": [
    "def Augmentation(previous_block,max_diff,nombre):\n",
    "    L_H=[]\n",
    "    L_N=[]\n",
    "    for difficulty in range(max_diff+1):\n",
    "        L_Temps,L_Hash,L_Nonce=Simulation(previous_block,difficulty,nombre)\n",
    "        L_H.append(L_Hash)\n",
    "        L_N.append(L_Nonce)\n",
    "    return L_H,L_N\n",
    "\n",
    "def Moyenne(L_N):\n",
    "    Moy=[]\n",
    "    for nonces in L_N:\n",
    "        Moy.append(np.mean(nonces))\n",
    "    return Moy"
   ]
  },
  {
   "cell_type": "code",
   "execution_count": 51,
   "id": "f16a0bce",
   "metadata": {},
   "outputs": [],
   "source": [
    "#Cas Théorique la fonction de Hashage suit une loi exponentielle 16^x avec x la difficulté\n",
    "def Theorique(max_diff):\n",
    "    L_N=[]\n",
    "    for i in range(max_diff+1):\n",
    "        L_N.append(16**i)\n",
    "    return L_N"
   ]
  },
  {
   "cell_type": "code",
   "execution_count": 56,
   "id": "e788a5fc",
   "metadata": {},
   "outputs": [],
   "source": [
    "#Paramètres\n",
    "previous_block=\"\"\n",
    "max_diff=6\n",
    "nombre=10\n",
    "D_H=[]\n",
    "D_N=[]\n",
    "D_Theo_N=[]\n",
    "D_Moyenne=[]"
   ]
  },
  {
   "cell_type": "code",
   "execution_count": 57,
   "id": "95e4cbb8",
   "metadata": {},
   "outputs": [],
   "source": [
    "D_H,D_N = Augmentation(previous_block,max_diff,nombre)\n",
    "D_Moyenne = Moyenne(D_N)\n",
    "D_Theo_N = Theorique(max_diff)"
   ]
  },
  {
   "cell_type": "code",
   "execution_count": 58,
   "id": "95fa69ae",
   "metadata": {},
   "outputs": [
    {
     "data": {
      "image/png": "[encoded data removed]",
      "text/plain": [
       "<Figure size 432x288 with 1 Axes>"
      ]
     },
     "metadata": {
      "needs_background": "light"
     },
     "output_type": "display_data"
    }
   ],
   "source": [
    "fig,ax=plt.subplots()\n",
    "ax.plot(np.arange(max_diff+1),D_Moyenne,marker=\"o\",color='blue')\n",
    "ax.plot(np.arange(max_diff+1),D_Theo_N,marker=\"o\",color='red')\n",
    "ax.set_xlabel(\"Difficulty\",color=\"blue\",fontsize=14)\n",
    "ax.set_ylabel(\"Nonces\",color=\"red\",fontsize=14)\n",
    "\n",
    "plt.show()"
   ]
  },
  {
   "cell_type": "code",
   "execution_count": null,
   "id": "d03efd00",
   "metadata": {},
   "outputs": [],
   "source": []
  },
  {
   "cell_type": "markdown",
   "id": "3a25b581",
   "metadata": {},
   "source": [
    "### 2) Démonstration que pour une Difficultée fixée, le temps de minage suit une loi exponentielle"
   ]
  },
  {
   "cell_type": "code",
   "execution_count": 60,
   "id": "de96f207",
   "metadata": {},
   "outputs": [],
   "source": [
    "def Package(previous_block,difficulty,nombre):\n",
    "    Pack=[]\n",
    "    L_T,L_H,L_N=Simulation(previous_block,difficulty,nombre)\n",
    "    Pack.append([L_T,L_H,L_N])\n",
    "    return Pack"
   ]
  },
  {
   "cell_type": "code",
   "execution_count": 62,
   "id": "84f4d5ab",
   "metadata": {},
   "outputs": [],
   "source": [
    "# P(X>target)=p\n",
    "def Exp(L_Temps,target):\n",
    "    under=0\n",
    "    for temps in L_Temps:\n",
    "        if temps>target:\n",
    "            under+=1\n",
    "    return under/len(L_Temps)"
   ]
  },
  {
   "cell_type": "code",
   "execution_count": 61,
   "id": "48f9d12e",
   "metadata": {},
   "outputs": [],
   "source": [
    "nombre=1000\n",
    "previous_block=\"\"\n",
    "#Simulation de difficulté 0\n",
    "Pack0 = Package(previous_block,0,nombre)\n",
    "#Simulation de difficulté 1\n",
    "Pack1 = Package(previous_block,1,nombre)\n",
    "#Simulation de difficulté 2\n",
    "Pack2 = Package(previous_block,2,nombre)\n",
    "#Simulation de difficulté 3\n",
    "Pack3 = Package(previous_block,3,nombre)\n",
    "#Simulation de difficulté 4\n",
    "Pack4 = Package(previous_block,4,nombre)"
   ]
  },
  {
   "cell_type": "code",
   "execution_count": 76,
   "id": "200d48bb",
   "metadata": {},
   "outputs": [],
   "source": [
    "max_time=max(Pack4[0][0])\n",
    "Y0_Exp=[]\n",
    "Y1_Exp=[]\n",
    "Y2_Exp=[]\n",
    "Y3_Exp=[]\n",
    "Y4_Exp=[]\n",
    "X_axis=np.arange(0,max_time,0.01)\n",
    "for target in X_axis:\n",
    "    Y0_Exp.append(Exp(Pack0[0][0],target))\n",
    "    Y1_Exp.append(Exp(Pack1[0][0],target))\n",
    "    Y2_Exp.append(Exp(Pack2[0][0],target))\n",
    "    Y3_Exp.append(Exp(Pack3[0][0],target))\n",
    "    Y4_Exp.append(Exp(Pack4[0][0],target))"
   ]
  },
  {
   "cell_type": "code",
   "execution_count": 88,
   "id": "fc8d4ffb",
   "metadata": {},
   "outputs": [
    {
     "data": {
      "text/plain": [
       "Text(0, 0.5, 'Proba')"
      ]
     },
     "execution_count": 88,
     "metadata": {},
     "output_type": "execute_result"
    },
    {
     "data": {
      "image/png": "[encoded data removed]",
      "text/plain": [
       "<Figure size 432x288 with 1 Axes>"
      ]
     },
     "metadata": {
      "needs_background": "light"
     },
     "output_type": "display_data"
    }
   ],
   "source": [
    "fig,ax=plt.subplots()\n",
    "plt.title('loi exponentielle')\n",
    "ax.plot(X_axis,Y0_Exp,marker=\"o\",color='yellow')\n",
    "ax.plot(X_axis,Y1_Exp,marker=\"o\",color='orange')\n",
    "ax.plot(X_axis,Y2_Exp,marker=\"o\",color='red')\n",
    "ax.plot(X_axis,Y3_Exp,marker=\"o\",color='blue')\n",
    "ax.plot(X_axis,Y4_Exp,marker=\"o\",color='black')\n",
    "ax.set_xlabel(\"Temps\",color=\"blue\",fontsize=14)\n",
    "ax.set_ylabel(\"Proba\",color=\"red\",fontsize=14)"
   ]
  },
  {
   "cell_type": "code",
   "execution_count": 89,
   "id": "626f254c",
   "metadata": {},
   "outputs": [
    {
     "data": {
      "image/png": "[encoded data removed]",
      "text/plain": [
       "<Figure size 432x288 with 6 Axes>"
      ]
     },
     "metadata": {
      "needs_background": "light"
     },
     "output_type": "display_data"
    }
   ],
   "source": [
    "fig, ax = plt.subplots(2, 3,sharey=True)\n",
    "#Plot Difficulty 0\n",
    "Y0=[]\n",
    "X0=np.arange(0,max(Pack0[0][0])+0.01,0.001)\n",
    "for target in X0:\n",
    "    Y0.append(Exp(Pack0[0][0],target))\n",
    "ax[0,0].plot(X0,Y0,marker=\"o\",color='yellow')\n",
    "ax[0,0].set_title(\"Difficulty 0\")\n",
    "\n",
    "#Plot Difficulty 1\n",
    "Y1=[]\n",
    "X1=np.arange(0,max(Pack1[0][0])+0.01,0.001)\n",
    "for target in X1:\n",
    "    Y1.append(Exp(Pack1[0][0],target))\n",
    "ax[0,1].plot(X1,Y1,marker=\"o\",color='orange')\n",
    "ax[0,1].set_title(\"Difficulty 1\")\n",
    "\n",
    "#Plot Difficulty 2\n",
    "Y2=[]\n",
    "X2=np.arange(0,max(Pack2[0][0])+0.01,0.001)\n",
    "for target in X2:\n",
    "    Y2.append(Exp(Pack2[0][0],target))\n",
    "ax[0,2].plot(X2,Y2,marker=\"o\",color='red')\n",
    "ax[0,2].set_title(\"Difficulty 2\")\n",
    "\n",
    "#Plot Difficulty 3\n",
    "Y3=[]\n",
    "X3=np.arange(0,max(Pack3[0][0])+0.01,0.001)\n",
    "for target in X3:\n",
    "    Y3.append(Exp(Pack3[0][0],target))\n",
    "ax[1,0].plot(X3,Y3,marker=\"o\",color='blue')\n",
    "ax[1,0].set_title(\"Difficulty 3\")\n",
    "\n",
    "#Plot Difficulty 4\n",
    "Y4=[]\n",
    "X4=np.arange(0,max(Pack4[0][0])+0.01,0.001)\n",
    "for target in X4:\n",
    "    Y4.append(Exp(Pack4[0][0],target))\n",
    "ax[1,1].plot(X4,Y4,marker=\"o\",color='red')\n",
    "ax[1,1].set_title(\"Difficulty 4\")\n",
    "\n",
    "plt.tight_layout()\n",
    "plt.show()"
   ]
  },
  {
   "cell_type": "code",
   "execution_count": null,
   "id": "79db06a7",
   "metadata": {},
   "outputs": [],
   "source": []
  },
  {
   "cell_type": "markdown",
   "id": "21b73293",
   "metadata": {},
   "source": [
    "### 3) Applications"
   ]
  },
  {
   "cell_type": "markdown",
   "id": "2245d715",
   "metadata": {},
   "source": [
    "#### a) Paramétrage"
   ]
  },
  {
   "cell_type": "code",
   "execution_count": 122,
   "id": "80e8af82",
   "metadata": {},
   "outputs": [
    {
     "name": "stdout",
     "output_type": "stream",
     "text": [
      "Le Hash du block précédent: 0x\n",
      "La difficulté: 3\n",
      "le nombre de Simulation: 10000\n"
     ]
    }
   ],
   "source": [
    "Previous = str(input('Le Hash du block précédent: '))\n",
    "Difficulty = eval(input('La difficulté: '))\n",
    "Nombre = eval(input('le nombre de Simulation: '))"
   ]
  },
  {
   "cell_type": "code",
   "execution_count": 139,
   "id": "c5b21bd5",
   "metadata": {},
   "outputs": [
    {
     "data": {
      "text/plain": [
       "Text(0, 0.5, 'Proba')"
      ]
     },
     "execution_count": 139,
     "metadata": {},
     "output_type": "execute_result"
    },
    {
     "data": {
      "image/png": "[encoded data removed]",
      "text/plain": [
       "<Figure size 432x288 with 1 Axes>"
      ]
     },
     "metadata": {
      "needs_background": "light"
     },
     "output_type": "display_data"
    }
   ],
   "source": [
    "Application = Package(Previous,Difficulty,Nombre)\n",
    "Y=[]\n",
    "X = np.arange(0,max(Application[0][0])+0.01,0.001)\n",
    "for target in X:\n",
    "    Y.append(Exp(Application[0][0],target))\n",
    "fig,ax=plt.subplots()\n",
    "plt.title('APPLICATION')\n",
    "ax.plot(X,Y,marker=\"o\",color='black')\n",
    "ax.set_xlabel(\"Temps\",color=\"blue\",fontsize=14)\n",
    "ax.set_ylabel(\"Proba\",color=\"red\",fontsize=14)"
   ]
  },
  {
   "cell_type": "markdown",
   "id": "36598a14",
   "metadata": {},
   "source": [
    "#### b) Calcule "
   ]
  },
  {
   "cell_type": "code",
   "execution_count": 140,
   "id": "fcfd69f1",
   "metadata": {},
   "outputs": [
    {
     "name": "stdout",
     "output_type": "stream",
     "text": [
      "Donner la Probabilité: 0.1\n"
     ]
    }
   ],
   "source": [
    "#Chercher un Temps spécifique\n",
    "Proba = eval(input('Donner la Probabilité: '))\n",
    "Y_Proba=[Proba]*len(X)"
   ]
  },
  {
   "cell_type": "code",
   "execution_count": 141,
   "id": "4eca06d5",
   "metadata": {},
   "outputs": [
    {
     "data": {
      "text/plain": [
       "Text(0, 0.5, 'Proba')"
      ]
     },
     "execution_count": 141,
     "metadata": {},
     "output_type": "execute_result"
    },
    {
     "data": {
      "image/png": "[encoded data removed]",
      "text/plain": [
       "<Figure size 432x288 with 1 Axes>"
      ]
     },
     "metadata": {
      "needs_background": "light"
     },
     "output_type": "display_data"
    }
   ],
   "source": [
    "fig,ax=plt.subplots()\n",
    "plt.title('APPLICATION PROBA')\n",
    "ax.plot(X,Y,marker=\"_\",color='black')\n",
    "ax.plot(X,Y_Proba,marker=\"_\",color='red')\n",
    "ax.set_xlabel(\"Temps\",color=\"blue\",fontsize=14)\n",
    "ax.set_ylabel(\"Proba\",color=\"red\",fontsize=14)"
   ]
  },
  {
   "cell_type": "code",
   "execution_count": 149,
   "id": "962e7361",
   "metadata": {},
   "outputs": [],
   "source": [
    "def intersectionHorizontal(Y,Proba):\n",
    "    value = [i for i in Y if i < Proba][0]\n",
    "    return Y.index(value)"
   ]
  },
  {
   "cell_type": "code",
   "execution_count": 150,
   "id": "cecde86e",
   "metadata": {},
   "outputs": [
    {
     "name": "stdout",
     "output_type": "stream",
     "text": [
      "Pour une Probabilité de 0.1 il faut 0.016 secondes!\n"
     ]
    }
   ],
   "source": [
    "idxH = intersectionHorizontal(Y,Proba)\n",
    "print('Pour une Probabilité de '+str(Proba)+' il faut '+str(X[idxH])+' secondes!')"
   ]
  },
  {
   "cell_type": "code",
   "execution_count": 176,
   "id": "6f00af05",
   "metadata": {},
   "outputs": [
    {
     "name": "stdout",
     "output_type": "stream",
     "text": [
      "Donner le Temps: 0.004\n"
     ]
    }
   ],
   "source": [
    "#Chercher une proba spécifique\n",
    "Temps = eval(input('Donner le Temps: '))"
   ]
  },
  {
   "cell_type": "code",
   "execution_count": 177,
   "id": "76185329",
   "metadata": {},
   "outputs": [],
   "source": [
    "def intersectionVertical(X,Temps):\n",
    "    value = [i for i in X if Temps < i][0]\n",
    "    return np.where(X == value)[0][0]"
   ]
  },
  {
   "cell_type": "code",
   "execution_count": 178,
   "id": "149512ae",
   "metadata": {},
   "outputs": [
    {
     "name": "stdout",
     "output_type": "stream",
     "text": [
      "Pour un temps de 0.004 on a 0.459 en probabilité!\n"
     ]
    }
   ],
   "source": [
    "idxV = intersectionVertical(X,Temps)\n",
    "print('Pour un temps de '+str(Temps)+' on a '+str(Y[idxV])+' en probabilité!')"
   ]
  },
  {
   "cell_type": "code",
   "execution_count": null,
   "id": "dd74d947",
   "metadata": {},
   "outputs": [],
   "source": []
  },
  {
   "cell_type": "code",
   "execution_count": null,
   "id": "54279138",
   "metadata": {},
   "outputs": [],
   "source": []
  }
 ],
 "metadata": {
  "kernelspec": {
   "display_name": "Python 3",
   "language": "python",
   "name": "python3"
  },
  "language_info": {
   "codemirror_mode": {
    "name": "ipython",
    "version": 3
   },
   "file_extension": ".py",
   "mimetype": "text/x-python",
   "name": "python",
   "nbconvert_exporter": "python",
   "pygments_lexer": "ipython3",
   "version": "3.7.9"
  }
 },
 "nbformat": 4,
 "nbformat_minor": 5
}
