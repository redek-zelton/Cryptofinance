{
 "cells": [
  {
   "cell_type": "markdown",
   "metadata": {},
   "source": [
    "# Proof Of Work Mining"
   ]
  },
  {
   "cell_type": "markdown",
   "metadata": {},
   "source": [
    "## 1) Importation de Librairie et Création de Fonction"
   ]
  },
  {
   "cell_type": "code",
   "execution_count": 1,
   "metadata": {},
   "outputs": [],
   "source": [
    "#Importation des bibliothèques\n",
    "import hashlib\n",
    "from time import time\n",
    "import numpy as np\n",
    "from scipy.stats import norm\n",
    "import matplotlib.pyplot as plt"
   ]
  },
  {
   "cell_type": "markdown",
   "metadata": {},
   "source": [
    "### a) Proof of Work function"
   ]
  },
  {
   "cell_type": "code",
   "execution_count": 2,
   "metadata": {},
   "outputs": [],
   "source": [
    "# Hash d'un block précédent et d'un nombre aléatoire\n",
    "# Retourne un hash valide et son nonce\n",
    "def PoW(previous_block,difficulty):\n",
    "    #Initialisation à 0\n",
    "    val_hash=previous_block\n",
    "    nonce=1\n",
    "    h=hashlib.sha256()\n",
    "    h.update(previous_block.encode())\n",
    "    h.update(str(nonce).encode())\n",
    "    val_hash=h.hexdigest()\n",
    "    # Hash en continue jusqu'à réussir la difficulté\n",
    "    while val_hash[0:difficulty] != difficulty*\"0\":\n",
    "        nonce+=1\n",
    "        h=hashlib.sha256()\n",
    "        h.update(previous_block.encode())\n",
    "        h.update(str(nonce).encode())\n",
    "        val_hash=h.hexdigest()\n",
    "    return val_hash,nonce"
   ]
  },
  {
   "cell_type": "markdown",
   "metadata": {},
   "source": [
    "### b) Simulation function"
   ]
  },
  {
   "cell_type": "code",
   "execution_count": 3,
   "metadata": {},
   "outputs": [],
   "source": [
    "# Simulation avec un nombre de fois\n",
    "# Retourne une Liste: de temps mis pour un hash, de hash, et son nonce\n",
    "def Simulation(previous_block,difficulty,nombre):\n",
    "    L_Temps=[]\n",
    "    L_Hash=[]\n",
    "    L_Nonce=[]\n",
    "    for i in range(nombre):\n",
    "        Start=time()\n",
    "        val_hash,nonce = PoW(previous_block,difficulty)\n",
    "        End=time()\n",
    "        L_Temps.append(End-Start)\n",
    "        L_Hash.append(val_hash)\n",
    "        L_Nonce.append(nonce)\n",
    "        previous_block=val_hash\n",
    "    return L_Temps,L_Hash,L_Nonce"
   ]
  },
  {
   "cell_type": "markdown",
   "metadata": {},
   "source": [
    "## 2) Démonstration que la Difficultée suit une fonction exponentielle"
   ]
  },
  {
   "cell_type": "markdown",
   "metadata": {},
   "source": [
    "### a) fonction pour la simulation"
   ]
  },
  {
   "cell_type": "code",
   "execution_count": 4,
   "metadata": {},
   "outputs": [],
   "source": [
    "# Même principe que la fonction Simulation.\n",
    "# Hash un nombre (nombre) de blocks fixes par difficultés (de 0 jusqu'à max_diff)\n",
    "# # Retourne une Liste: de hash, et son nonce\n",
    "def Augmentation(previous_block,max_diff,nombre):\n",
    "    L_H=[]\n",
    "    L_N=[]\n",
    "    for difficulty in range(max_diff+1):\n",
    "        L_Temps,L_Hash,L_Nonce=Simulation(previous_block,difficulty,nombre)\n",
    "        L_H.append(L_Hash)\n",
    "        L_N.append(L_Nonce)\n",
    "    return L_H,L_N\n",
    "\n",
    "# return the mean of nonce for a difficuty\n",
    "def Moyenne(L_N):\n",
    "    Moy=[]\n",
    "    for nonces in L_N:\n",
    "        Moy.append(np.mean(nonces))\n",
    "    return Moy"
   ]
  },
  {
   "cell_type": "markdown",
   "metadata": {},
   "source": [
    "### b) Valeurs théoriques pour le minage d'un hash"
   ]
  },
  {
   "cell_type": "code",
   "execution_count": 5,
   "metadata": {},
   "outputs": [],
   "source": [
    "#Cas Théorique la fonction de Hashage suit une loi exponentielle 16^x avec x la difficulté\n",
    "def Theorique(max_diff):\n",
    "    #the highest nonce can be found to success\n",
    "    Sur=[]\n",
    "    #the mean of nonce to success\n",
    "    Moy=[]\n",
    "    #the quickest time when you have n-1 0 before\n",
    "    Rap=[]\n",
    "    for i in range(max_diff+1):\n",
    "        Sur.append(16**i)\n",
    "        Moy.append(int(16**i/2+1))\n",
    "        Rap.append((16**(i)/16)+1)\n",
    "    return Sur,Moy,Rap"
   ]
  },
  {
   "cell_type": "markdown",
   "metadata": {},
   "source": [
    "### c) Application "
   ]
  },
  {
   "cell_type": "code",
   "execution_count": 6,
   "metadata": {},
   "outputs": [],
   "source": [
    "#Paramètres\n",
    "previous_block=\"\"\n",
    "max_diff=6\n",
    "nombre=4\n",
    "\n",
    "#Liste of Hash sorted by difficulty\n",
    "D_H=[]\n",
    "\n",
    "#Liste of nonce found for hash\n",
    "D_N=[]\n",
    "#Liste de la moyenne des nonces par difficulté\n",
    "D_Moyenne=[]\n",
    "\n",
    "#Valeurs Theoriques\n",
    "Sur=[]\n",
    "Moy=[]\n",
    "Rap=[]"
   ]
  },
  {
   "cell_type": "code",
   "execution_count": 7,
   "metadata": {},
   "outputs": [],
   "source": [
    "D_H,D_N = Augmentation(previous_block,max_diff,nombre)\n",
    "D_Moyenne = Moyenne(D_N)\n",
    "Sur,Moy,Rap = Theorique(max_diff)"
   ]
  },
  {
   "cell_type": "code",
   "execution_count": 8,
   "metadata": {},
   "outputs": [
    {
     "data": {
      "image/png": "[encoded data removed]",
      "text/plain": [
       "<Figure size 432x288 with 1 Axes>"
      ]
     },
     "metadata": {
      "needs_background": "light"
     },
     "output_type": "display_data"
    }
   ],
   "source": [
    "fig,ax=plt.subplots()\n",
    "ax.plot(np.arange(max_diff+1),D_Moyenne,marker=\"o\",color='blue')\n",
    "ax.plot(np.arange(max_diff+1),Sur,marker=\"o\",color='red')\n",
    "ax.plot(np.arange(max_diff+1),Moy,marker=\"o\",color='orange')\n",
    "ax.plot(np.arange(max_diff+1),Rap,marker=\"o\",color='black')\n",
    "ax.set_title('Valeur moyenne du nonce en fonction de la difficulté',fontsize=20)\n",
    "ax.legend(['expérience','Highest','Mean','Quickest'])\n",
    "ax.set_xlabel(\"Difficulty\",color=\"blue\",fontsize=14)\n",
    "ax.set_ylabel(\"Nonces\",color=\"red\",fontsize=14)\n",
    "\n",
    "plt.show()"
   ]
  },
  {
   "cell_type": "markdown",
   "metadata": {},
   "source": [
    "<p>la fonction de difficulté suit un fonction exponentielle f(x) = 16^x/2</p>"
   ]
  },
  {
   "cell_type": "markdown",
   "metadata": {},
   "source": [
    "## 3) Démonstration que pour une Difficultée fixée, le temps de minage suit une loi exponentielle"
   ]
  },
  {
   "cell_type": "markdown",
   "metadata": {},
   "source": [
    "### a) Mise en place des fonctions"
   ]
  },
  {
   "cell_type": "code",
   "execution_count": 44,
   "metadata": {},
   "outputs": [],
   "source": [
    "# Retourne une Liste comprennant: une liste de temps mis pour un hash, une liste de hash, une liste de son nonce\n",
    "def Package(previous_block,difficulty,nombre):\n",
    "    Pack=[]\n",
    "    L_T,L_H,L_N=Simulation(previous_block,difficulty,nombre)\n",
    "    Pack.append([L_T,L_H,L_N])\n",
    "    return Pack"
   ]
  },
  {
   "cell_type": "code",
   "execution_count": 45,
   "metadata": {},
   "outputs": [],
   "source": [
    "# P(X>target)=p\n",
    "# Retourne la probabilité où les valeurs sont supérieures à la target\n",
    "def Exp(L_Temps,target):\n",
    "    under=0\n",
    "    for temps in L_Temps:\n",
    "        if temps>target:\n",
    "            under+=1\n",
    "    return under/len(L_Temps)"
   ]
  },
  {
   "cell_type": "markdown",
   "metadata": {},
   "source": [
    "### b) Application "
   ]
  },
  {
   "cell_type": "code",
   "execution_count": 72,
   "metadata": {},
   "outputs": [],
   "source": [
    "#Paramètres\n",
    "nombre=500\n",
    "previous_block=\"\"\n",
    "\n",
    "#Simulation de difficulté 0\n",
    "Pack0 = Package(previous_block,0,nombre)\n",
    "#Simulation de difficulté 1\n",
    "Pack1 = Package(previous_block,1,nombre)\n",
    "#Simulation de difficulté 2\n",
    "Pack2 = Package(previous_block,2,nombre)\n",
    "#Simulation de difficulté 3\n",
    "Pack3 = Package(previous_block,3,nombre)\n",
    "#Simulation de difficulté 4\n",
    "Pack4 = Package(previous_block,4,nombre)"
   ]
  },
  {
   "cell_type": "code",
   "execution_count": 73,
   "metadata": {},
   "outputs": [],
   "source": [
    "# Paramètres pour l'axe des abscisses\n",
    "max_time=max(Pack4[0][0])+0.05\n",
    "\n",
    "# Probabilités pour chaque difficulté\n",
    "Y0_Exp=[]\n",
    "Y1_Exp=[]\n",
    "Y2_Exp=[]\n",
    "Y3_Exp=[]\n",
    "Y4_Exp=[]\n",
    "X_axis=np.arange(0,max_time,0.01)\n",
    "for target in X_axis:\n",
    "    Y0_Exp.append(Exp(Pack0[0][0],target))\n",
    "    Y1_Exp.append(Exp(Pack1[0][0],target))\n",
    "    Y2_Exp.append(Exp(Pack2[0][0],target))\n",
    "    Y3_Exp.append(Exp(Pack3[0][0],target))\n",
    "    Y4_Exp.append(Exp(Pack4[0][0],target))"
   ]
  },
  {
   "cell_type": "code",
   "execution_count": 74,
   "metadata": {},
   "outputs": [
    {
     "data": {
      "text/plain": [
       "Text(0, 0.5, 'Proba')"
      ]
     },
     "execution_count": 74,
     "metadata": {},
     "output_type": "execute_result"
    },
    {
     "data": {
      "image/png": "[encoded data removed]",
      "text/plain": [
       "<Figure size 432x288 with 1 Axes>"
      ]
     },
     "metadata": {
      "needs_background": "light"
     },
     "output_type": "display_data"
    }
   ],
   "source": [
    "# Visualisation\n",
    "fig,ax=plt.subplots()\n",
    "plt.title('loi de distribution')\n",
    "ax.plot(X_axis,Y0_Exp,marker=\"o\",color='yellow')\n",
    "ax.plot(X_axis,Y1_Exp,marker=\"o\",color='orange')\n",
    "ax.plot(X_axis,Y2_Exp,marker=\"o\",color='red')\n",
    "ax.plot(X_axis,Y3_Exp,marker=\"o\",color='blue')\n",
    "ax.plot(X_axis,Y4_Exp,marker=\"o\",color='green')\n",
    "ax.legend(['difficulty_0','difficulty_1','difficulty_2','difficulty_3','difficulty_4'])\n",
    "ax.set_xlabel(\"Temps\",color=\"blue\",fontsize=14)\n",
    "ax.set_ylabel(\"Proba\",color=\"red\",fontsize=14)"
   ]
  },
  {
   "cell_type": "code",
   "execution_count": 75,
   "metadata": {},
   "outputs": [
    {
     "data": {
      "image/png": "[encoded data removed]",
      "text/plain": [
       "<Figure size 432x288 with 6 Axes>"
      ]
     },
     "metadata": {
      "needs_background": "light"
     },
     "output_type": "display_data"
    }
   ],
   "source": [
    "# Visualisation séparée\n",
    "\n",
    "fig, ax = plt.subplots(2, 3,sharey=True)\n",
    "#Plot Difficulty 0\n",
    "Y0=[]\n",
    "X0=np.arange(0,max(Pack0[0][0])+0.01,0.001)\n",
    "for target in X0:\n",
    "    Y0.append(Exp(Pack0[0][0],target))\n",
    "ax[0,0].plot(X0,Y0,marker=\"o\",color='yellow')\n",
    "ax[0,0].set_title(\"Difficulty 0\")\n",
    "\n",
    "#Plot Difficulty 1\n",
    "Y1=[]\n",
    "X1=np.arange(0,max(Pack1[0][0])+0.01,0.001)\n",
    "for target in X1:\n",
    "    Y1.append(Exp(Pack1[0][0],target))\n",
    "ax[0,1].plot(X1,Y1,marker=\"o\",color='orange')\n",
    "ax[0,1].set_title(\"Difficulty 1\")\n",
    "\n",
    "#Plot Difficulty 2\n",
    "Y2=[]\n",
    "X2=np.arange(0,max(Pack2[0][0])+0.01,0.001)\n",
    "for target in X2:\n",
    "    Y2.append(Exp(Pack2[0][0],target))\n",
    "ax[0,2].plot(X2,Y2,marker=\"o\",color='red')\n",
    "ax[0,2].set_title(\"Difficulty 2\")\n",
    "\n",
    "#Plot Difficulty 3\n",
    "Y3=[]\n",
    "X3=np.arange(0,max(Pack3[0][0])+0.01,0.001)\n",
    "for target in X3:\n",
    "    Y3.append(Exp(Pack3[0][0],target))\n",
    "ax[1,0].plot(X3,Y3,marker=\"o\",color='blue')\n",
    "ax[1,0].set_title(\"Difficulty 3\")\n",
    "\n",
    "#Plot Difficulty 4\n",
    "Y4=[]\n",
    "X4=np.arange(0,max(Pack4[0][0])+0.01,0.001)\n",
    "for target in X4:\n",
    "    Y4.append(Exp(Pack4[0][0],target))\n",
    "ax[1,1].plot(X4,Y4,marker=\"o\",color='red')\n",
    "ax[1,1].set_title(\"Difficulty 4\")\n",
    "\n",
    "plt.tight_layout()\n",
    "plt.show()"
   ]
  },
  {
   "cell_type": "code",
   "execution_count": 76,
   "metadata": {},
   "outputs": [
    {
     "name": "stdout",
     "output_type": "stream",
     "text": [
      "### Observation du lien avec la loi exponentielle ###\n",
      "lien avec difficulté 0:  KstestResult(statistic=0.9960079893439915, pvalue=1.744414303788266e-283)\n",
      "lien avec difficulté 1:  KstestResult(statistic=0.9915254237288136, pvalue=6.591027649842133e-245)\n",
      "lien avec difficulté 2:  KstestResult(statistic=0.9875334130728051, pvalue=3.974140456662788e-225)\n",
      "lien avec difficulté 3:  KstestResult(statistic=0.9443419299664643, pvalue=1.876525088083122e-148)\n",
      "lien avec difficulté 4:  KstestResult(statistic=0.5795441566272757, pvalue=3.905994024865898e-38)\n"
     ]
    }
   ],
   "source": [
    "from scipy import stats\n",
    "#montrer que la loi suit une loi exponentielle\n",
    "print('### Observation du lien avec la loi exponentielle ###')\n",
    "print('lien avec difficulté 0: ',stats.kstest(Y0_Exp,'expon'))\n",
    "print('lien avec difficulté 1: ',stats.kstest(Y1_Exp,'expon'))\n",
    "print('lien avec difficulté 2: ',stats.kstest(Y2_Exp,'expon'))\n",
    "print('lien avec difficulté 3: ',stats.kstest(Y3_Exp,'expon'))\n",
    "print('lien avec difficulté 4: ',stats.kstest(Y4_Exp,'expon'))"
   ]
  },
  {
   "cell_type": "markdown",
   "metadata": {},
   "source": [
    "<p>On observe bien la loi exponentielle car le lien avec la loi est supérieure à 50%</p>"
   ]
  },
  {
   "cell_type": "markdown",
   "metadata": {},
   "source": [
    "## 3) Applications"
   ]
  },
  {
   "cell_type": "markdown",
   "metadata": {},
   "source": [
    "### a) Paramétrage pour une Application"
   ]
  },
  {
   "cell_type": "code",
   "execution_count": 17,
   "metadata": {},
   "outputs": [
    {
     "name": "stdout",
     "output_type": "stream",
     "text": [
      "Le Hash du block précédent: \n",
      "La difficulté: 3\n",
      "le nombre de Simulation: 2000\n"
     ]
    }
   ],
   "source": [
    "#Paramètres donnés par l'utilisateur\n",
    "Previous = str(input('Le Hash du block précédent: '))\n",
    "Difficulty = eval(input('La difficulté: '))\n",
    "Nombre = eval(input('le nombre de Simulation: '))"
   ]
  },
  {
   "cell_type": "markdown",
   "metadata": {},
   "source": [
    "### b) Visualisation après avoir mis les paramètres"
   ]
  },
  {
   "cell_type": "code",
   "execution_count": 18,
   "metadata": {},
   "outputs": [
    {
     "data": {
      "text/plain": [
       "Text(0, 0.5, 'Proba')"
      ]
     },
     "execution_count": 18,
     "metadata": {},
     "output_type": "execute_result"
    },
    {
     "data": {
      "image/png": "[encoded data removed]",
      "text/plain": [
       "<Figure size 432x288 with 1 Axes>"
      ]
     },
     "metadata": {
      "needs_background": "light"
     },
     "output_type": "display_data"
    }
   ],
   "source": [
    "Application = Package(Previous,Difficulty,Nombre)\n",
    "Y=[]\n",
    "X = np.arange(0,max(Application[0][0])+0.01,0.001)\n",
    "for target in X:\n",
    "    Y.append(Exp(Application[0][0],target))\n",
    "fig,ax=plt.subplots()\n",
    "plt.title('APPLICATION')\n",
    "ax.plot(X,Y,marker=\"o\",color='black')\n",
    "ax.set_xlabel(\"Temps\",color=\"blue\",fontsize=14)\n",
    "ax.set_ylabel(\"Proba\",color=\"red\",fontsize=14)"
   ]
  },
  {
   "cell_type": "code",
   "execution_count": 19,
   "metadata": {},
   "outputs": [],
   "source": [
    "def intersectionHorizontal(Y,Proba):\n",
    "    value = [i for i in Y if i < Proba][0]\n",
    "    return Y.index(value)"
   ]
  },
  {
   "cell_type": "code",
   "execution_count": 20,
   "metadata": {},
   "outputs": [
    {
     "name": "stdout",
     "output_type": "stream",
     "text": [
      "Donner la Probabilité: 0.2\n",
      "Pour une Probabilité de 0.2 il faut 0.012 secondes!\n"
     ]
    },
    {
     "data": {
      "image/png": "[encoded data removed]",
      "text/plain": [
       "<Figure size 432x288 with 1 Axes>"
      ]
     },
     "metadata": {
      "needs_background": "light"
     },
     "output_type": "display_data"
    }
   ],
   "source": [
    "#Chercher un Temps spécifique\n",
    "Proba = eval(input('Donner la Probabilité: '))\n",
    "Y_Proba=[Proba]*len(X)\n",
    "\n",
    "fig,ax=plt.subplots()\n",
    "plt.title('APPLICATION PROBA')\n",
    "ax.plot(X,Y,marker=\"_\",color='black')\n",
    "ax.plot(X,Y_Proba,marker=\"_\",color='red')\n",
    "ax.set_xlabel(\"Temps\",color=\"blue\",fontsize=14)\n",
    "ax.set_ylabel(\"Proba\",color=\"red\",fontsize=14)\n",
    "\n",
    "idxH = intersectionHorizontal(Y,Proba)\n",
    "print('Pour une Probabilité de '+str(Proba)+' il faut '+str(X[idxH])+' secondes!')"
   ]
  },
  {
   "cell_type": "code",
   "execution_count": 21,
   "metadata": {},
   "outputs": [],
   "source": [
    "def intersectionVertical(X,Temps):\n",
    "    value = [i for i in X if Temps < i][0]\n",
    "    return np.where(X == value)[0][0]"
   ]
  },
  {
   "cell_type": "code",
   "execution_count": 22,
   "metadata": {},
   "outputs": [
    {
     "name": "stdout",
     "output_type": "stream",
     "text": [
      "Donner le Temps: 0.03\n",
      "Pour un temps de 0.03 on a 0.01 en probabilité!\n"
     ]
    }
   ],
   "source": [
    "#Chercher une proba spécifique\n",
    "Temps = eval(input('Donner le Temps: '))\n",
    "idxV = intersectionVertical(X,Temps)\n",
    "print('Pour un temps de '+str(Temps)+' on a '+str(Y[idxV])+' en probabilité!')"
   ]
  },
  {
   "cell_type": "code",
   "execution_count": null,
   "metadata": {},
   "outputs": [],
   "source": []
  },
  {
   "cell_type": "markdown",
   "metadata": {},
   "source": [
    "<h1><center>Fin Du TD</center></h1>"
   ]
  }
 ],
 "metadata": {
  "kernelspec": {
   "display_name": "Python 3",
   "language": "python",
   "name": "python3"
  },
  "language_info": {
   "codemirror_mode": {
    "name": "ipython",
    "version": 3
   },
   "file_extension": ".py",
   "mimetype": "text/x-python",
   "name": "python",
   "nbconvert_exporter": "python",
   "pygments_lexer": "ipython3",
   "version": "3.7.4"
  }
 },
 "nbformat": 4,
 "nbformat_minor": 5
}
